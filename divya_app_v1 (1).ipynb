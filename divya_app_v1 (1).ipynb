{
 "cells": [
  {
   "cell_type": "markdown",
   "id": "e6f57bac",
   "metadata": {},
   "source": [
    "# <span style='font-family:rockwell'>  <span style='color:black'> ***Bradford Assay***"
   ]
  },
  {
   "cell_type": "markdown",
   "id": "29c92b5e",
   "metadata": {},
   "source": [
    "### <span style='font-family:rockwell'>  <span style='color:black'> **Data Processor**"
   ]
  },
  {
   "cell_type": "code",
   "execution_count": 3,
   "id": "f6c3c8a9",
   "metadata": {},
   "outputs": [
    {
     "data": {
      "application/vnd.jupyter.widget-view+json": {
       "model_id": "c3341d7922f94588bf5c97d293def20d",
       "version_major": 2,
       "version_minor": 0
      },
      "text/plain": [
       "HBox(children=(FileUpload(value={}, description='Upload your file: xlsx', layout=Layout(width='200px')), Butto…"
      ]
     },
     "metadata": {},
     "output_type": "display_data"
    },
    {
     "data": {
      "application/vnd.jupyter.widget-view+json": {
       "model_id": "d8e543d38a0a4d0db316f29b49990b90",
       "version_major": 2,
       "version_minor": 0
      },
      "text/plain": [
       "Output()"
      ]
     },
     "metadata": {},
     "output_type": "display_data"
    }
   ],
   "source": [
    "#%matplotlib widget\n",
    "#import matplotlib.pyplot as plt\n",
    "import ipywidgets as widgets\n",
    "import pandas as pd\n",
    "import io \n",
    "from IPython.display import display\n",
    "#import numpy as np\n",
    "#import scipy.stats as stats\n",
    "\n",
    "uploader = widgets.FileUpload(description = \"Upload your file: xlsx\", multiple=False)\n",
    "uploader.layout.width = '200px'\n",
    "process_btn = widgets.Button(description = \"Process data\", button_style='success')\n",
    "graph_btn = widgets.Button(description = \"Display graph\", button_style='info')\n",
    "\n",
    "display(widgets.HBox([uploader, process_btn, graph_btn]))\n",
    "\n",
    "out = widgets.Output()\n",
    "display(out)\n",
    "\n",
    "\n",
    "# calculates the concentration using the absorbance_value, m & c values  \n",
    "def calconc (gradient, intercept, absorbance):\n",
    "    concentration = (absorbance - intercept) / gradient\n",
    "    return round(concentration, 3)\n",
    "        \n",
    "# calculates required volume to get the the desired amount of proteins from a sample under a particular condition\n",
    "def calcvol (Protein_μg_aliquot, Aliquot_volume_μl, desired_protein_μg):\n",
    "    required_volume = (desired_protein_μg*Aliquot_volume_μl)/Protein_μg_aliquot    \n",
    "    return round(required_volume, 3)\n",
    "\n",
    "# calculates the amount of proteins in the entire sample using aliquot amounts\n",
    "def calcsampleconc (Protein_μg_aliquot, ALiquot_volume_μl, Sample_volume_ml):\n",
    "    Sample_volume_μl = Sample_volume_ml*1000\n",
    "    Protein_μg_sample = (Sample_volume_μl*Protein_μg_aliquot)/ALiquot_volume_μl\n",
    "    return Protein_μg_sample\n",
    "\n",
    "def on_upload_change(uploaded_file):\n",
    "    global content\n",
    "    with out:\n",
    "        uploaded_file = list(uploader.value.values())[0]\n",
    "        content = pd.read_excel(io.BytesIO(uploaded_file['content']))\n",
    "        return display(content)\n",
    "\n",
    "def data_processing(on_upload_change):\n",
    "        global conc, abso, m, c\n",
    "        with out:\n",
    "        \n",
    "            #reading data from the columns\n",
    "            conc = content[content.Standard_Unknown =='S']['Protein_μg_sample']\n",
    "            abso = content[content.Standard_Unknown =='S']['Absorbance_nm']\n",
    "            \n",
    "            #line of best fit using polyfit function\n",
    "            m, c = np.polyfit(conc, abso, 1)\n",
    "                        \n",
    "            content['Condition_name'] = content['Condition_name'].str.lower()\n",
    "\n",
    "            #group by Condition num/name, avg the abso values, name the new columns, round the avg values\n",
    "            content_mean = content.groupby(['Condition_number', 'Condition_name'])['Absorbance_nm'].mean().round(3).rename('Average_absorbance_nm').reset_index()\n",
    "\n",
    "            #merge the new column with the main index\n",
    "            content_1 = content.merge(content_mean)\n",
    "            \n",
    "            #calculate the amount of proteins using the absorbance values\n",
    "            content_1.loc[content_1.Standard_Unknown =='U','Protein_μg_aliquot'] = calconc(m, c, content_1['Average_absorbance_nm'])\n",
    "\n",
    "            #drop unnecessary columns\n",
    "            content_2 = content_1.drop(['Absorbance_nm', 'Replicate_number'], 1)\n",
    "\n",
    "            #drop repetetive rows\n",
    "            content_2.drop_duplicates(['Condition_number', 'Condition_name'], keep='first', inplace=True)\n",
    "            content_2.reset_index(drop=True, inplace=True)\n",
    "\n",
    "            #calculate volume to get desired amount of proteins. Default set to 100μg\n",
    "            content_2.loc[content_2.Standard_Unknown =='U', ['Volume_for_100μg']] = calcvol (content_2['Protein_μg_aliquot'], content_2['Aliquot_volume_μl'], 100)\n",
    "\n",
    "            #calculate the amount of protein in entire sample based on amounts in aliquot \n",
    "            content_2.loc[content_2.Standard_Unknown =='U','Protein_μg_sample'] = calcsampleconc(content_2['Protein_μg_aliquot'], content_2['Aliquot_volume_μl'], content_2['Sample_volume_ml'])\n",
    "            \n",
    "            return display(content_2)\n",
    "\n",
    "def graph_creator(self):\n",
    "        with out:\n",
    "            #layout of the graph\n",
    "            plt.ylabel('Absorbance at 595nm')\n",
    "            plt.xlabel('Amount of proteins (μg)')\n",
    "            plt.title('Graph of the standard curve')\n",
    "\n",
    "\n",
    "            #plot the data points,   # plot the line of best fit\n",
    "            plt.plot(conc, m*conc+c, 'g-')\n",
    "            plt.legend(['Standards', 'Line of best fit'])\n",
    "            plt.plot(conc, abso, 'o')\n",
    "            return plt.show()\n",
    "        \n",
    "def test_button(self):\n",
    "    with out:\n",
    "        return print(\"the button works!\")\n",
    "\n",
    "uploader.observe(on_upload_change, names='value') \n",
    "process_btn.on_click(data_processing)\n",
    "#graph_btn.on_click(graph_creator)"
   ]
  },
  {
   "cell_type": "code",
   "execution_count": null,
   "id": "0c051ac2",
   "metadata": {},
   "outputs": [],
   "source": [
    "\n",
    "\n"
   ]
  }
 ],
 "metadata": {
  "kernelspec": {
   "display_name": "Python 3",
   "language": "python",
   "name": "python3"
  },
  "language_info": {
   "codemirror_mode": {
    "name": "ipython",
    "version": 3
   },
   "file_extension": ".py",
   "mimetype": "text/x-python",
   "name": "python",
   "nbconvert_exporter": "python",
   "pygments_lexer": "ipython3",
   "version": "3.8.8"
  },
  "latex_envs": {
   "LaTeX_envs_menu_present": true,
   "autoclose": false,
   "autocomplete": true,
   "bibliofile": "biblio.bib",
   "cite_by": "apalike",
   "current_citInitial": 1,
   "eqLabelWithNumbers": true,
   "eqNumInitial": 1,
   "hotkeys": {
    "equation": "Ctrl-E",
    "itemize": "Ctrl-I"
   },
   "labels_anchors": false,
   "latex_user_defs": false,
   "report_style_numbering": false,
   "user_envs_cfg": false
  }
 },
 "nbformat": 4,
 "nbformat_minor": 5
}
